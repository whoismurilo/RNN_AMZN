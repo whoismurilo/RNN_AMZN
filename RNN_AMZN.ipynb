{
  "nbformat": 4,
  "nbformat_minor": 0,
  "metadata": {
    "colab": {
      "name": "RNN_AMZN.ipynb",
      "provenance": []
    },
    "kernelspec": {
      "name": "python3",
      "display_name": "Python 3"
    }
  },
  "cells": [
    {
      "cell_type": "code",
      "metadata": {
        "id": "iTokIu0EY2vt",
        "colab_type": "code",
        "colab": {
          "base_uri": "https://localhost:8080/",
          "height": 71
        },
        "outputId": "eab31091-698a-48b0-aa6d-9d43e2df40e4"
      },
      "source": [
        "#importing libraries\n",
        "import math\n",
        "import pandas_datareader as web\n",
        "import numpy as np\n",
        "import pandas as pd\n",
        "from sklearn.preprocessing import MinMaxScaler\n",
        "from keras.models import Sequential\n",
        "from keras.layers import Dense, LSTM\n",
        "import matplotlib.pyplot as plt\n",
        "import warnings\n",
        "warnings.filterwarnings('ignore')\n",
        "plt.style.use('fivethirtyeight')\n",
        "%matplotlib inline"
      ],
      "execution_count": 1,
      "outputs": [
        {
          "output_type": "stream",
          "text": [
            "/usr/local/lib/python3.6/dist-packages/pandas_datareader/compat/__init__.py:7: FutureWarning: pandas.util.testing is deprecated. Use the functions in the public API at pandas.testing instead.\n",
            "  from pandas.util.testing import assert_frame_equal\n"
          ],
          "name": "stderr"
        }
      ]
    },
    {
      "cell_type": "code",
      "metadata": {
        "id": "f887rUPrsYHq",
        "colab_type": "code",
        "colab": {
          "base_uri": "https://localhost:8080/",
          "height": 235
        },
        "outputId": "857ee7b9-abee-43e2-e92a-9d31eca50936"
      },
      "source": [
        "#importing stock price of Amazon\n",
        "data = web.DataReader('AMZN', data_source='yahoo', start='2010-01-01', end='2020-08-27')\n",
        "data.head()"
      ],
      "execution_count": 2,
      "outputs": [
        {
          "output_type": "execute_result",
          "data": {
            "text/html": [
              "<div>\n",
              "<style scoped>\n",
              "    .dataframe tbody tr th:only-of-type {\n",
              "        vertical-align: middle;\n",
              "    }\n",
              "\n",
              "    .dataframe tbody tr th {\n",
              "        vertical-align: top;\n",
              "    }\n",
              "\n",
              "    .dataframe thead th {\n",
              "        text-align: right;\n",
              "    }\n",
              "</style>\n",
              "<table border=\"1\" class=\"dataframe\">\n",
              "  <thead>\n",
              "    <tr style=\"text-align: right;\">\n",
              "      <th></th>\n",
              "      <th>High</th>\n",
              "      <th>Low</th>\n",
              "      <th>Open</th>\n",
              "      <th>Close</th>\n",
              "      <th>Volume</th>\n",
              "      <th>Adj Close</th>\n",
              "    </tr>\n",
              "    <tr>\n",
              "      <th>Date</th>\n",
              "      <th></th>\n",
              "      <th></th>\n",
              "      <th></th>\n",
              "      <th></th>\n",
              "      <th></th>\n",
              "      <th></th>\n",
              "    </tr>\n",
              "  </thead>\n",
              "  <tbody>\n",
              "    <tr>\n",
              "      <th>2010-01-04</th>\n",
              "      <td>136.610001</td>\n",
              "      <td>133.139999</td>\n",
              "      <td>136.250000</td>\n",
              "      <td>133.899994</td>\n",
              "      <td>7599900</td>\n",
              "      <td>133.899994</td>\n",
              "    </tr>\n",
              "    <tr>\n",
              "      <th>2010-01-05</th>\n",
              "      <td>135.479996</td>\n",
              "      <td>131.809998</td>\n",
              "      <td>133.429993</td>\n",
              "      <td>134.690002</td>\n",
              "      <td>8851900</td>\n",
              "      <td>134.690002</td>\n",
              "    </tr>\n",
              "    <tr>\n",
              "      <th>2010-01-06</th>\n",
              "      <td>134.729996</td>\n",
              "      <td>131.649994</td>\n",
              "      <td>134.600006</td>\n",
              "      <td>132.250000</td>\n",
              "      <td>7178800</td>\n",
              "      <td>132.250000</td>\n",
              "    </tr>\n",
              "    <tr>\n",
              "      <th>2010-01-07</th>\n",
              "      <td>132.320007</td>\n",
              "      <td>128.800003</td>\n",
              "      <td>132.009995</td>\n",
              "      <td>130.000000</td>\n",
              "      <td>11030200</td>\n",
              "      <td>130.000000</td>\n",
              "    </tr>\n",
              "    <tr>\n",
              "      <th>2010-01-08</th>\n",
              "      <td>133.679993</td>\n",
              "      <td>129.029999</td>\n",
              "      <td>130.559998</td>\n",
              "      <td>133.520004</td>\n",
              "      <td>9830500</td>\n",
              "      <td>133.520004</td>\n",
              "    </tr>\n",
              "  </tbody>\n",
              "</table>\n",
              "</div>"
            ],
            "text/plain": [
              "                  High         Low  ...    Volume   Adj Close\n",
              "Date                                ...                      \n",
              "2010-01-04  136.610001  133.139999  ...   7599900  133.899994\n",
              "2010-01-05  135.479996  131.809998  ...   8851900  134.690002\n",
              "2010-01-06  134.729996  131.649994  ...   7178800  132.250000\n",
              "2010-01-07  132.320007  128.800003  ...  11030200  130.000000\n",
              "2010-01-08  133.679993  129.029999  ...   9830500  133.520004\n",
              "\n",
              "[5 rows x 6 columns]"
            ]
          },
          "metadata": {
            "tags": []
          },
          "execution_count": 2
        }
      ]
    },
    {
      "cell_type": "code",
      "metadata": {
        "id": "BrM1BIZKtHkM",
        "colab_type": "code",
        "colab": {
          "base_uri": "https://localhost:8080/",
          "height": 34
        },
        "outputId": "6d54b3c2-a7f6-48e0-e6f4-4fba217d4de5"
      },
      "source": [
        "data.shape"
      ],
      "execution_count": 3,
      "outputs": [
        {
          "output_type": "execute_result",
          "data": {
            "text/plain": [
              "(2682, 6)"
            ]
          },
          "metadata": {
            "tags": []
          },
          "execution_count": 3
        }
      ]
    },
    {
      "cell_type": "code",
      "metadata": {
        "id": "Ish6rnI1tNhl",
        "colab_type": "code",
        "colab": {
          "base_uri": "https://localhost:8080/",
          "height": 518
        },
        "outputId": "1b3e9042-d5e1-4a68-ca53-ad1d4834f9f8"
      },
      "source": [
        "plt.figure(figsize=(16,8))\n",
        "plt.title('Histórico de Fechamento AMZN')\n",
        "plt.plot(data['Close'])\n",
        "plt.xlabel('Data', fontsize=18)\n",
        "plt.ylabel('Preço', fontsize=18)\n",
        "plt.show()"
      ],
      "execution_count": 4,
      "outputs": [
        {
          "output_type": "display_data",
          "data": {
            "image/png": "[encoded data removed]",
            "text/plain": [
              "<Figure size 1152x576 with 1 Axes>"
            ]
          },
          "metadata": {
            "tags": [],
            "needs_background": "light"
          }
        }
      ]
    },
    {
      "cell_type": "code",
      "metadata": {
        "id": "hSxekZNUt9k2",
        "colab_type": "code",
        "colab": {}
      },
      "source": [
        "dataset = data.filter(['Close'])"
      ],
      "execution_count": 5,
      "outputs": []
    },
    {
      "cell_type": "code",
      "metadata": {
        "id": "HoiGnyShunPA",
        "colab_type": "code",
        "colab": {}
      },
      "source": [
        "close = dataset.values"
      ],
      "execution_count": 6,
      "outputs": []
    },
    {
      "cell_type": "code",
      "metadata": {
        "id": "rrmfDcMxu8B7",
        "colab_type": "code",
        "colab": {
          "base_uri": "https://localhost:8080/",
          "height": 34
        },
        "outputId": "9336bd07-058c-47c2-df4d-e9673eaea038"
      },
      "source": [
        "training_close_len = math.ceil(len(close) * .8)\n",
        "training_close_len"
      ],
      "execution_count": 7,
      "outputs": [
        {
          "output_type": "execute_result",
          "data": {
            "text/plain": [
              "2146"
            ]
          },
          "metadata": {
            "tags": []
          },
          "execution_count": 7
        }
      ]
    },
    {
      "cell_type": "code",
      "metadata": {
        "id": "Qmy2SbmHvyOs",
        "colab_type": "code",
        "colab": {}
      },
      "source": [
        "scaler = MinMaxScaler(feature_range=(0,1))\n",
        "scaled_data = scaler.fit_transform(close)"
      ],
      "execution_count": 8,
      "outputs": []
    },
    {
      "cell_type": "code",
      "metadata": {
        "id": "67tsAlq1wUz1",
        "colab_type": "code",
        "colab": {
          "base_uri": "https://localhost:8080/",
          "height": 136
        },
        "outputId": "6b157b5d-3f09-434a-a104-d7bda03db25b"
      },
      "source": [
        "scaled_data"
      ],
      "execution_count": 9,
      "outputs": [
        {
          "output_type": "execute_result",
          "data": {
            "text/plain": [
              "array([[0.00758721],\n",
              "       [0.00782422],\n",
              "       [0.0070922 ],\n",
              "       ...,\n",
              "       [0.97139117],\n",
              "       [1.        ],\n",
              "       [0.98744462]])"
            ]
          },
          "metadata": {
            "tags": []
          },
          "execution_count": 9
        }
      ]
    },
    {
      "cell_type": "code",
      "metadata": {
        "id": "ZlgBItpnwX-H",
        "colab_type": "code",
        "colab": {
          "base_uri": "https://localhost:8080/",
          "height": 680
        },
        "outputId": "5fb86e2e-c899-4809-cc9f-207172b0b3bc"
      },
      "source": [
        " train_data = scaled_data[0:training_close_len, :]\n",
        " x_train = []\n",
        " y_train = []\n",
        "\n",
        " for i in range(60, len(train_data)):\n",
        "   x_train.append(train_data[i-60:i, 0])\n",
        "   y_train.append(train_data[i, 0])\n",
        "   if i<=61:\n",
        "     print(x_train)\n",
        "     print(y_train)\n",
        "     print()"
      ],
      "execution_count": 10,
      "outputs": [
        {
          "output_type": "stream",
          "text": [
            "[array([0.00758721, 0.00782422, 0.0070922 , 0.00641718, 0.00747321,\n",
            "       0.00651018, 0.00562216, 0.00615017, 0.00562216, 0.00555916,\n",
            "       0.00570016, 0.00515114, 0.00540315, 0.00384611, 0.0035101 ,\n",
            "       0.00326109, 0.00424212, 0.00522615, 0.00504014, 0.00307809,\n",
            "       0.00285308, 0.00314709, 0.00219906, 0.00263407, 0.00246607,\n",
            "       0.00282608, 0.00262507, 0.0034441 , 0.00331509, 0.00267607,\n",
            "       0.00231006, 0.00284108, 0.00267307, 0.00282008, 0.00258907,\n",
            "       0.00333309, 0.00287708, 0.00293708, 0.00477913, 0.00507614,\n",
            "       0.00518414, 0.00597617, 0.00609017, 0.00645018, 0.00606317,\n",
            "       0.00657018, 0.00749121, 0.0069632 , 0.00675619, 0.00695419,\n",
            "       0.00681919, 0.0072452 , 0.00652218, 0.00655818, 0.00619517,\n",
            "       0.00582916, 0.00783622, 0.00793522, 0.00795322, 0.00839124])]\n",
            "[0.008148229011819483]\n",
            "\n",
            "[array([0.00758721, 0.00782422, 0.0070922 , 0.00641718, 0.00747321,\n",
            "       0.00651018, 0.00562216, 0.00615017, 0.00562216, 0.00555916,\n",
            "       0.00570016, 0.00515114, 0.00540315, 0.00384611, 0.0035101 ,\n",
            "       0.00326109, 0.00424212, 0.00522615, 0.00504014, 0.00307809,\n",
            "       0.00285308, 0.00314709, 0.00219906, 0.00263407, 0.00246607,\n",
            "       0.00282608, 0.00262507, 0.0034441 , 0.00331509, 0.00267607,\n",
            "       0.00231006, 0.00284108, 0.00267307, 0.00282008, 0.00258907,\n",
            "       0.00333309, 0.00287708, 0.00293708, 0.00477913, 0.00507614,\n",
            "       0.00518414, 0.00597617, 0.00609017, 0.00645018, 0.00606317,\n",
            "       0.00657018, 0.00749121, 0.0069632 , 0.00675619, 0.00695419,\n",
            "       0.00681919, 0.0072452 , 0.00652218, 0.00655818, 0.00619517,\n",
            "       0.00582916, 0.00783622, 0.00793522, 0.00795322, 0.00839124]), array([0.00782422, 0.0070922 , 0.00641718, 0.00747321, 0.00651018,\n",
            "       0.00562216, 0.00615017, 0.00562216, 0.00555916, 0.00570016,\n",
            "       0.00515114, 0.00540315, 0.00384611, 0.0035101 , 0.00326109,\n",
            "       0.00424212, 0.00522615, 0.00504014, 0.00307809, 0.00285308,\n",
            "       0.00314709, 0.00219906, 0.00263407, 0.00246607, 0.00282608,\n",
            "       0.00262507, 0.0034441 , 0.00331509, 0.00267607, 0.00231006,\n",
            "       0.00284108, 0.00267307, 0.00282008, 0.00258907, 0.00333309,\n",
            "       0.00287708, 0.00293708, 0.00477913, 0.00507614, 0.00518414,\n",
            "       0.00597617, 0.00609017, 0.00645018, 0.00606317, 0.00657018,\n",
            "       0.00749121, 0.0069632 , 0.00675619, 0.00695419, 0.00681919,\n",
            "       0.0072452 , 0.00652218, 0.00655818, 0.00619517, 0.00582916,\n",
            "       0.00783622, 0.00793522, 0.00795322, 0.00839124, 0.00814823])]\n",
            "[0.008148229011819483, 0.006960193767260668]\n",
            "\n"
          ],
          "name": "stdout"
        }
      ]
    },
    {
      "cell_type": "code",
      "metadata": {
        "id": "4ms5JjmbzGUt",
        "colab_type": "code",
        "colab": {}
      },
      "source": [
        "x_train, y_train = np.array(x_train), np.array(y_train)"
      ],
      "execution_count": 11,
      "outputs": []
    },
    {
      "cell_type": "code",
      "metadata": {
        "id": "sxX7WyjvzIhN",
        "colab_type": "code",
        "colab": {
          "base_uri": "https://localhost:8080/",
          "height": 34
        },
        "outputId": "1ec30349-c503-4bdf-8500-1c1de6752eaa"
      },
      "source": [
        "x_train = np.reshape(x_train, (2086, 60, 1))\n",
        "x_train.shape"
      ],
      "execution_count": 12,
      "outputs": [
        {
          "output_type": "execute_result",
          "data": {
            "text/plain": [
              "(2086, 60, 1)"
            ]
          },
          "metadata": {
            "tags": []
          },
          "execution_count": 12
        }
      ]
    },
    {
      "cell_type": "code",
      "metadata": {
        "id": "ExoKUhWsVILl",
        "colab_type": "code",
        "colab": {}
      },
      "source": [
        "model = Sequential()\n",
        "model.add(LSTM(50, return_sequences=True, input_shape=(x_train.shape[1], 1)))\n",
        "model.add(LSTM(50, return_sequences=False))\n",
        "model.add(Dense(25))\n",
        "model.add(Dense(1))"
      ],
      "execution_count": 13,
      "outputs": []
    },
    {
      "cell_type": "code",
      "metadata": {
        "id": "Z93iy2ZTXYlV",
        "colab_type": "code",
        "colab": {}
      },
      "source": [
        "model.compile(optimizer='adam', loss='mean_squared_error')"
      ],
      "execution_count": 14,
      "outputs": []
    },
    {
      "cell_type": "code",
      "metadata": {
        "id": "k5VaAv3TX0VG",
        "colab_type": "code",
        "colab": {
          "base_uri": "https://localhost:8080/",
          "height": 51
        },
        "outputId": "683208b5-632d-4e51-fdb9-0985bed027f7"
      },
      "source": [
        "model.fit(x_train, y_train, batch_size=1, epochs=1)"
      ],
      "execution_count": 15,
      "outputs": [
        {
          "output_type": "stream",
          "text": [
            "2086/2086 [==============================] - 48s 23ms/step - loss: 2.8294e-04\n"
          ],
          "name": "stdout"
        },
        {
          "output_type": "execute_result",
          "data": {
            "text/plain": [
              "<tensorflow.python.keras.callbacks.History at 0x7f0df1664fd0>"
            ]
          },
          "metadata": {
            "tags": []
          },
          "execution_count": 15
        }
      ]
    },
    {
      "cell_type": "code",
      "metadata": {
        "id": "jc9P9buWYTkH",
        "colab_type": "code",
        "colab": {}
      },
      "source": [
        "test_data = scaled_data[training_close_len - 60: , :]\n",
        "x_test = []\n",
        "y_test = close[training_close_len:,:]\n",
        "for j in range(60, len(test_data)):\n",
        "  x_test.append(test_data[j-60:j, 0])"
      ],
      "execution_count": 16,
      "outputs": []
    },
    {
      "cell_type": "code",
      "metadata": {
        "id": "Fo5Q7HMzaF-X",
        "colab_type": "code",
        "colab": {}
      },
      "source": [
        "x_test = np.array(x_test)\n",
        "x_test = np.reshape(x_test, (x_test.shape[0], x_test.shape[1], 1))"
      ],
      "execution_count": 17,
      "outputs": []
    },
    {
      "cell_type": "code",
      "metadata": {
        "id": "vYJ9G44kbDBJ",
        "colab_type": "code",
        "colab": {}
      },
      "source": [
        "predict = model.predict(x_test)\n",
        "predict = scaler.inverse_transform(predict)"
      ],
      "execution_count": 18,
      "outputs": []
    },
    {
      "cell_type": "code",
      "metadata": {
        "id": "jyrSs2fcbYjh",
        "colab_type": "code",
        "colab": {
          "base_uri": "https://localhost:8080/",
          "height": 34
        },
        "outputId": "719f8de7-91f0-4a71-cbfd-b53a0459c6b2"
      },
      "source": [
        "rmse = np.sqrt(np.mean(predict - y_test) ** 2)\n",
        "rmse"
      ],
      "execution_count": 19,
      "outputs": [
        {
          "output_type": "execute_result",
          "data": {
            "text/plain": [
              "15.951677692470266"
            ]
          },
          "metadata": {
            "tags": []
          },
          "execution_count": 19
        }
      ]
    },
    {
      "cell_type": "code",
      "metadata": {
        "id": "e2Jt4rKwbptk",
        "colab_type": "code",
        "colab": {}
      },
      "source": [
        "train = dataset[:training_close_len]\n",
        "valid = dataset[training_close_len:]\n",
        "valid['Predict'] = predict"
      ],
      "execution_count": 20,
      "outputs": []
    },
    {
      "cell_type": "code",
      "metadata": {
        "id": "soQnYcvWc_rx",
        "colab_type": "code",
        "colab": {
          "base_uri": "https://localhost:8080/",
          "height": 518
        },
        "outputId": "8fb27cda-650b-400c-e3db-4f58c3edee0c"
      },
      "source": [
        "plt.figure(figsize=(16,8))\n",
        "plt.title('Model')\n",
        "plt.xlabel('Data', fontsize=18)\n",
        "plt.ylabel('Fechamento U$', fontsize=18)\n",
        "plt.plot(train['Close'])\n",
        "plt.plot(valid[['Close', 'Predict']])\n",
        "plt.legend(['Train', 'Val', 'Predict'], loc='lower right')\n",
        "plt.show()"
      ],
      "execution_count": 21,
      "outputs": [
        {
          "output_type": "display_data",
          "data": {
            "image/png": "[encoded data removed]",
            "text/plain": [
              "<Figure size 1152x576 with 1 Axes>"
            ]
          },
          "metadata": {
            "tags": [],
            "needs_background": "light"
          }
        }
      ]
    },
    {
      "cell_type": "code",
      "metadata": {
        "id": "MZcMOa1ReCo8",
        "colab_type": "code",
        "colab": {
          "base_uri": "https://localhost:8080/",
          "height": 450
        },
        "outputId": "c098741c-7058-416c-b974-f7ced3c0369b"
      },
      "source": [
        "valid"
      ],
      "execution_count": 22,
      "outputs": [
        {
          "output_type": "execute_result",
          "data": {
            "text/html": [
              "<div>\n",
              "<style scoped>\n",
              "    .dataframe tbody tr th:only-of-type {\n",
              "        vertical-align: middle;\n",
              "    }\n",
              "\n",
              "    .dataframe tbody tr th {\n",
              "        vertical-align: top;\n",
              "    }\n",
              "\n",
              "    .dataframe thead th {\n",
              "        text-align: right;\n",
              "    }\n",
              "</style>\n",
              "<table border=\"1\" class=\"dataframe\">\n",
              "  <thead>\n",
              "    <tr style=\"text-align: right;\">\n",
              "      <th></th>\n",
              "      <th>Close</th>\n",
              "      <th>Predict</th>\n",
              "    </tr>\n",
              "    <tr>\n",
              "      <th>Date</th>\n",
              "      <th></th>\n",
              "      <th></th>\n",
              "    </tr>\n",
              "  </thead>\n",
              "  <tbody>\n",
              "    <tr>\n",
              "      <th>2018-07-13</th>\n",
              "      <td>1813.030029</td>\n",
              "      <td>1751.857666</td>\n",
              "    </tr>\n",
              "    <tr>\n",
              "      <th>2018-07-16</th>\n",
              "      <td>1822.489990</td>\n",
              "      <td>1766.541016</td>\n",
              "    </tr>\n",
              "    <tr>\n",
              "      <th>2018-07-17</th>\n",
              "      <td>1843.930054</td>\n",
              "      <td>1782.079590</td>\n",
              "    </tr>\n",
              "    <tr>\n",
              "      <th>2018-07-18</th>\n",
              "      <td>1842.920044</td>\n",
              "      <td>1798.754639</td>\n",
              "    </tr>\n",
              "    <tr>\n",
              "      <th>2018-07-19</th>\n",
              "      <td>1812.969971</td>\n",
              "      <td>1814.226440</td>\n",
              "    </tr>\n",
              "    <tr>\n",
              "      <th>...</th>\n",
              "      <td>...</td>\n",
              "      <td>...</td>\n",
              "    </tr>\n",
              "    <tr>\n",
              "      <th>2020-08-21</th>\n",
              "      <td>3284.719971</td>\n",
              "      <td>3261.892822</td>\n",
              "    </tr>\n",
              "    <tr>\n",
              "      <th>2020-08-24</th>\n",
              "      <td>3307.459961</td>\n",
              "      <td>3278.860596</td>\n",
              "    </tr>\n",
              "    <tr>\n",
              "      <th>2020-08-25</th>\n",
              "      <td>3346.489990</td>\n",
              "      <td>3295.308838</td>\n",
              "    </tr>\n",
              "    <tr>\n",
              "      <th>2020-08-26</th>\n",
              "      <td>3441.850098</td>\n",
              "      <td>3313.669678</td>\n",
              "    </tr>\n",
              "    <tr>\n",
              "      <th>2020-08-27</th>\n",
              "      <td>3400.000000</td>\n",
              "      <td>3340.571289</td>\n",
              "    </tr>\n",
              "  </tbody>\n",
              "</table>\n",
              "<p>536 rows × 2 columns</p>\n",
              "</div>"
            ],
            "text/plain": [
              "                  Close      Predict\n",
              "Date                                \n",
              "2018-07-13  1813.030029  1751.857666\n",
              "2018-07-16  1822.489990  1766.541016\n",
              "2018-07-17  1843.930054  1782.079590\n",
              "2018-07-18  1842.920044  1798.754639\n",
              "2018-07-19  1812.969971  1814.226440\n",
              "...                 ...          ...\n",
              "2020-08-21  3284.719971  3261.892822\n",
              "2020-08-24  3307.459961  3278.860596\n",
              "2020-08-25  3346.489990  3295.308838\n",
              "2020-08-26  3441.850098  3313.669678\n",
              "2020-08-27  3400.000000  3340.571289\n",
              "\n",
              "[536 rows x 2 columns]"
            ]
          },
          "metadata": {
            "tags": []
          },
          "execution_count": 22
        }
      ]
    },
    {
      "cell_type": "code",
      "metadata": {
        "id": "FpUXYiXHeU37",
        "colab_type": "code",
        "colab": {}
      },
      "source": [
        ""
      ],
      "execution_count": null,
      "outputs": []
    }
  ]
}